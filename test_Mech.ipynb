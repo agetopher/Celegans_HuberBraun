{
 "cells": [
  {
   "cell_type": "code",
   "execution_count": 1,
   "id": "3a669051",
   "metadata": {},
   "outputs": [],
   "source": [
    "import numpy as np"
   ]
  },
  {
   "cell_type": "code",
   "execution_count": null,
   "id": "22645468",
   "metadata": {},
   "outputs": [
    {
     "name": "stdout",
     "output_type": "stream",
     "text": [
      "44 positive=37755\n",
      "44 negative=245\n",
      "\n",
      "68 positive=37511\n",
      "68 negative=489\n",
      "\n",
      "81 positive=37643\n",
      "81 negative=357\n",
      "\n",
      "94 positive=36797\n",
      "94 negative=1203\n",
      "\n",
      "98 positive=37615\n",
      "98 negative=385\n",
      "\n",
      "106 positive=37745\n",
      "106 negative=255\n",
      "\n",
      "112 positive=37809\n",
      "112 negative=191\n",
      "\n"
     ]
    }
   ],
   "source": [
    "params = [44, 68, 81, 94, 98, 106, 112]\n",
    "for param in params:\n",
    "    curvature = np.loadtxt(f\"Data/AVA_curvature_array_{param}.csv\", delimiter=\",\")\n",
    "\n",
    "    positive = 0\n",
    "    negative = 0\n",
    "    for i in range(curvature.shape[1]):\n",
    "        for j in range(curvature.shape[0]):\n",
    "            if curvature[j, i] > 0.0:\n",
    "                positive += 1\n",
    "            else:\n",
    "                negative += 1\n",
    "\n",
    "    print(f\"{param} {positive=}\")\n",
    "    print(f\"{param} {negative=}\\n\")"
   ]
  },
  {
   "cell_type": "code",
   "execution_count": null,
   "id": "74233230",
   "metadata": {},
   "outputs": [
    {
     "name": "stdout",
     "output_type": "stream",
     "text": [
      "44 positive=16788\n",
      "44 negative=21212\n",
      "\n",
      "68 positive=20177\n",
      "68 negative=17823\n",
      "\n",
      "81 positive=19326\n",
      "81 negative=18674\n",
      "\n",
      "94 positive=20887\n",
      "94 negative=17113\n",
      "\n",
      "98 positive=18974\n",
      "98 negative=19026\n",
      "\n",
      "106 positive=18876\n",
      "106 negative=19124\n",
      "\n",
      "112 positive=18979\n",
      "112 negative=19021\n",
      "\n"
     ]
    }
   ],
   "source": [
    "params = [44, 68, 81, 94, 98, 106, 112]\n",
    "for param in params:\n",
    "    curvature_avg = np.loadtxt(f\"Data/AVA_curvature_array_avg_{param}.csv\", delimiter=\",\")\n",
    "\n",
    "    positive = 0\n",
    "    negative = 0\n",
    "    for i in range(curvature_avg.shape[1]):\n",
    "        for j in range(curvature_avg.shape[0]):\n",
    "            if curvature_avg[j, i] > 0.0:\n",
    "                positive += 1\n",
    "            else:\n",
    "                negative += 1\n",
    "\n",
    "    print(f\"{param} {positive=}\")\n",
    "    print(f\"{param} {negative=}\\n\")"
   ]
  }
 ],
 "metadata": {
  "kernelspec": {
   "display_name": "simple-worm-scripts",
   "language": "python",
   "name": "python3"
  },
  "language_info": {
   "codemirror_mode": {
    "name": "ipython",
    "version": 3
   },
   "file_extension": ".py",
   "mimetype": "text/x-python",
   "name": "python",
   "nbconvert_exporter": "python",
   "pygments_lexer": "ipython3",
   "version": "3.9.23"
  }
 },
 "nbformat": 4,
 "nbformat_minor": 5
}
