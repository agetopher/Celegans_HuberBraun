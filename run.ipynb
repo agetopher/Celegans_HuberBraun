{
 "cells": [
  {
   "cell_type": "code",
   "execution_count": 1,
   "metadata": {},
   "outputs": [],
   "source": [
    "import settings\n",
    "from Fit_HuberBraun_Matrix_5param_AVB_First import Fit_HuberBraun_Matrix_5param_AVB_First"
   ]
  },
  {
   "cell_type": "code",
   "execution_count": 2,
   "metadata": {},
   "outputs": [],
   "source": [
    "settings.init()"
   ]
  },
  {
   "cell_type": "code",
   "execution_count": 3,
   "metadata": {},
   "outputs": [
    {
     "name": "stderr",
     "output_type": "stream",
     "text": [
      "/opt/anaconda3/lib/python3.11/site-packages/numpy/core/_methods.py:206: RuntimeWarning: Degrees of freedom <= 0 for slice\n",
      "  ret = _var(a, axis=axis, dtype=dtype, out=out, ddof=ddof,\n",
      "/opt/anaconda3/lib/python3.11/site-packages/numpy/core/_methods.py:163: RuntimeWarning: invalid value encountered in divide\n",
      "  arrmean = um.true_divide(arrmean, div, out=arrmean,\n",
      "/opt/anaconda3/lib/python3.11/site-packages/numpy/core/_methods.py:198: RuntimeWarning: invalid value encountered in scalar divide\n",
      "  ret = ret.dtype.type(ret / rcount)\n",
      "/opt/anaconda3/lib/python3.11/site-packages/numpy/core/fromnumeric.py:3504: RuntimeWarning: Mean of empty slice.\n",
      "  return _methods._mean(a, axis=axis, dtype=dtype,\n",
      "/opt/anaconda3/lib/python3.11/site-packages/numpy/core/_methods.py:129: RuntimeWarning: invalid value encountered in scalar divide\n",
      "  ret = ret.dtype.type(ret / rcount)\n"
     ]
    },
    {
     "name": "stdout",
     "output_type": "stream",
     "text": [
      "[nan, nan, nan, nan, nan, nan, nan, nan, nan, nan, nan]\n",
      "(7, 1, 1)\n"
     ]
    },
    {
     "ename": "ValueError",
     "evalue": "all the input arrays must have same number of dimensions, but the array at index 0 has 3 dimension(s) and the array at index 1 has 2 dimension(s)",
     "output_type": "error",
     "traceback": [
      "\u001b[0;31m---------------------------------------------------------------------------\u001b[0m",
      "\u001b[0;31mValueError\u001b[0m                                Traceback (most recent call last)",
      "Cell \u001b[0;32mIn[3], line 4\u001b[0m\n\u001b[1;32m      2\u001b[0m r1 \u001b[38;5;241m=\u001b[39m params[\u001b[38;5;241m0\u001b[39m]\n\u001b[1;32m      3\u001b[0m ubestAVB \u001b[38;5;241m=\u001b[39m params[\u001b[38;5;241m1\u001b[39m:]\n\u001b[0;32m----> 4\u001b[0m out \u001b[38;5;241m=\u001b[39m Fit_HuberBraun_Matrix_5param_AVB_First(ubestAVB, r1)\n",
      "File \u001b[0;32m~/Documents/NJIT/Research/Summer2025/Code/Celegans_HuberBraun/Fit_HuberBraun_Matrix_5param_AVB_First.py:231\u001b[0m, in \u001b[0;36mFit_HuberBraun_Matrix_5param_AVB_First\u001b[0;34m(v, r1)\u001b[0m\n\u001b[1;32m    228\u001b[0m data_AVB_1 \u001b[38;5;241m=\u001b[39m data;\n\u001b[1;32m    230\u001b[0m H1 \u001b[38;5;241m=\u001b[39m plt\u001b[38;5;241m.\u001b[39mfigure(\u001b[38;5;241m1\u001b[39m)\n\u001b[0;32m--> 231\u001b[0m plotKymograph_AVB_First(data_AVB_1, r1, ratio1AVB, ratio2AVB, BestMaxAVB, SCOAVB)\n\u001b[1;32m    232\u001b[0m plt\u001b[38;5;241m.\u001b[39msavefig((\u001b[38;5;124mf\u001b[39m\u001b[38;5;124m'\u001b[39m\u001b[38;5;124mdata/Kymograph_Comb%d_AVB_First.png\u001b[39m\u001b[38;5;124m'\u001b[39m, r1), \u001b[38;5;124m'\u001b[39m\u001b[38;5;124mfigure_format\u001b[39m\u001b[38;5;124m'\u001b[39m, \u001b[38;5;124m'\u001b[39m\u001b[38;5;124mpng\u001b[39m\u001b[38;5;124m'\u001b[39m)\\\n\u001b[1;32m    234\u001b[0m \u001b[38;5;28;01mreturn\u001b[39;00m np\u001b[38;5;241m.\u001b[39mconcatenate([SCOAVB, ratio1AVB, ratio2AVB, IncCount, DecCount, V_AVB, asd_AVB, asr_AVB, s_AVB, data_AVB_1])\n",
      "File \u001b[0;32m~/Documents/NJIT/Research/Summer2025/Code/Celegans_HuberBraun/plotKymograph_AVB_First.py:58\u001b[0m, in \u001b[0;36mplotKymograph_AVB_First\u001b[0;34m(rawdata, r1, AVB_ratio1, AVB_ratio2, FixMaxAVB, fbest)\u001b[0m\n\u001b[1;32m     56\u001b[0m flagmat \u001b[38;5;241m=\u001b[39m np\u001b[38;5;241m.\u001b[39marray([seg1flag\u001b[38;5;241m.\u001b[39mT, seg2flag\u001b[38;5;241m.\u001b[39mT, seg3flag\u001b[38;5;241m.\u001b[39mT, seg4flag\u001b[38;5;241m.\u001b[39mT, seg5flag\u001b[38;5;241m.\u001b[39mT, seg6flag\u001b[38;5;241m.\u001b[39mT, np\u001b[38;5;241m.\u001b[39mzeros(seg1flag\u001b[38;5;241m.\u001b[39mshape)])\n\u001b[1;32m     57\u001b[0m \u001b[38;5;28mprint\u001b[39m(flagmat\u001b[38;5;241m.\u001b[39mshape)\n\u001b[0;32m---> 58\u001b[0m flagmat \u001b[38;5;241m=\u001b[39m np\u001b[38;5;241m.\u001b[39mconcatenate((flagmat, np\u001b[38;5;241m.\u001b[39mzeros((\u001b[38;5;241m1\u001b[39m, \u001b[38;5;28mlen\u001b[39m(t)\u001b[38;5;241m+\u001b[39m\u001b[38;5;241m1\u001b[39m))), axis\u001b[38;5;241m=\u001b[39m\u001b[38;5;241m0\u001b[39m)\n\u001b[1;32m     60\u001b[0m \u001b[38;5;66;03m# Make black and white kymograph \u001b[39;00m\n\u001b[1;32m     61\u001b[0m plt\u001b[38;5;241m.\u001b[39mset(\u001b[38;5;241m0\u001b[39m, \u001b[38;5;124m'\u001b[39m\u001b[38;5;124mDefaultAxesFontSize\u001b[39m\u001b[38;5;124m'\u001b[39m, \u001b[38;5;241m24\u001b[39m)\n",
      "\u001b[0;31mValueError\u001b[0m: all the input arrays must have same number of dimensions, but the array at index 0 has 3 dimension(s) and the array at index 1 has 2 dimension(s)"
     ]
    },
    {
     "data": {
      "text/plain": [
       "<Figure size 640x480 with 0 Axes>"
      ]
     },
     "metadata": {},
     "output_type": "display_data"
    }
   ],
   "source": [
    "params = [44, 0.000363000000000000, 5.45726102941647e-06, 0.00167208415554239,0.000660000000000000]\n",
    "r1 = params[0]\n",
    "ubestAVB = params[1:]\n",
    "out = Fit_HuberBraun_Matrix_5param_AVB_First(ubestAVB, r1)"
   ]
  },
  {
   "cell_type": "code",
   "execution_count": null,
   "metadata": {},
   "outputs": [],
   "source": []
  },
  {
   "cell_type": "code",
   "execution_count": 12,
   "metadata": {},
   "outputs": [
    {
     "data": {
      "text/plain": [
       "(408, 600)"
      ]
     },
     "execution_count": 12,
     "metadata": {},
     "output_type": "execute_result"
    }
   ],
   "source": []
  },
  {
   "cell_type": "code",
   "execution_count": null,
   "metadata": {},
   "outputs": [],
   "source": []
  }
 ],
 "metadata": {
  "kernelspec": {
   "display_name": "Python 3",
   "language": "python",
   "name": "python3"
  },
  "language_info": {
   "codemirror_mode": {
    "name": "ipython",
    "version": 3
   },
   "file_extension": ".py",
   "mimetype": "text/x-python",
   "name": "python",
   "nbconvert_exporter": "python",
   "pygments_lexer": "ipython3",
   "version": "3.11.7"
  }
 },
 "nbformat": 4,
 "nbformat_minor": 2
}
